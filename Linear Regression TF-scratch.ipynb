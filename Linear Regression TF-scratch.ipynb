{
 "cells": [
  {
   "cell_type": "code",
   "execution_count": 4,
   "metadata": {},
   "outputs": [
    {
     "name": "stdout",
     "output_type": "stream",
     "text": [
      "Version:  2.0.0\n",
      "Eager mode:  True\n",
      "GPU is NOT AVAILABLE\n"
     ]
    }
   ],
   "source": [
    "import random\n",
    "import numpy as np\n",
    "import tensorflow as tf\n",
    "import matplotlib.pyplot as plt\n",
    "\n",
    "\n",
    "print(\"Version: \", tf.__version__)\n",
    "print(\"Eager mode: \", tf.executing_eagerly())\n",
    "print(\"GPU is\", \"available\" if tf.config.experimental.list_physical_devices(\"GPU\") else \"NOT AVAILABLE\")"
   ]
  },
  {
   "cell_type": "code",
   "execution_count": 13,
   "metadata": {},
   "outputs": [],
   "source": [
    "num_inputs = 2\n",
    "num_examples = 1000\n",
    "TRUE_W = [2, -3.4]\n",
    "TRUE_b = 4.2\n",
    "features = tf.random.normal((num_examples, num_inputs), stddev=1)\n",
    "labels = TRUE_W[0] * features[:, 0] + TRUE_W[1] * features[:, 1] + TRUE_b\n",
    "labels += tf.random.normal(labels.shape, stddev=0.01)"
   ]
  },
  {
   "cell_type": "code",
   "execution_count": 8,
   "metadata": {},
   "outputs": [
    {
     "data": {
      "text/plain": [
       "<matplotlib.collections.PathCollection at 0x14b912650>"
      ]
     },
     "execution_count": 8,
     "metadata": {},
     "output_type": "execute_result"
    },
    {
     "data": {
      "image/png": "[encoded data removed]",
      "text/plain": [
       "<Figure size 432x288 with 1 Axes>"
      ]
     },
     "metadata": {
      "needs_background": "light"
     },
     "output_type": "display_data"
    }
   ],
   "source": [
    "plt.scatter(x=features[:, 1], y=labels, s=3)"
   ]
  },
  {
   "cell_type": "code",
   "execution_count": 5,
   "metadata": {},
   "outputs": [],
   "source": [
    "class LinearRegression:\n",
    "    def __init__(self, inputs):\n",
    "        self.Weight = tf.Variable(tf.random.normal((inputs, 1), stddev=0.01))\n",
    "        self.Bias = tf.Variable(np.random.normal())\n",
    "\n",
    "    def __call__(self, x):\n",
    "        return tf.matmul(x, self.Weight) + self.Bias\n",
    "\n",
    "\n",
    "def squared_loss(y_hat, y):\n",
    "    return (y_hat - tf.reshape(y, y_hat.shape)) ** 2 / 2\n",
    "\n",
    "\n",
    "def data_iter(batch_size, features, labels):\n",
    "    features = np.array(features)\n",
    "    labels = np.array(labels)\n",
    "    num_examples = len(features)\n",
    "    indices = list(range(num_examples))\n",
    "    random.shuffle(indices)\n",
    "    for i in range(0, num_examples, batch_size):\n",
    "        j = np.array(indices[i:min(i + batch_size, num_examples)])\n",
    "        yield features[j], labels[j]"
   ]
  },
  {
   "cell_type": "code",
   "execution_count": 9,
   "metadata": {},
   "outputs": [
    {
     "name": "stdout",
     "output_type": "stream",
     "text": [
      "epoch 1, loss 7.165906\n",
      "epoch 2, loss 5.058565\n",
      "epoch 3, loss 1.420775\n",
      "epoch 4, loss 1.041754\n",
      "epoch 5, loss 0.692153\n",
      "epoch 6, loss 0.204528\n",
      "epoch 7, loss 0.078504\n",
      "epoch 8, loss 0.097860\n",
      "epoch 9, loss 0.035938\n",
      "epoch 10, loss 0.012789\n"
     ]
    }
   ],
   "source": [
    "lr = 0.003\n",
    "num_epochs = 10\n",
    "batch_size = 10\n",
    "loss = squared_loss\n",
    "model = LinearRegression(num_inputs)\n",
    "Weights, Biases = [], []\n",
    "\n",
    "for epoch in range(num_epochs):\n",
    "    for X, y in data_iter(batch_size, features, labels):\n",
    "        with tf.GradientTape(persistent=True) as t:\n",
    "            t.watch([model.Weight, model.Bias])\n",
    "            real_loss = loss(model(X), y)\n",
    "        for param in [model.Weight, model.Bias]:\n",
    "            # param[:] = param - lr * t.gradient(l, param) / batch_size\n",
    "            param.assign_sub(lr * t.gradient(real_loss, param) / batch_size)\n",
    "    print('epoch %d, loss %f' % (epoch + 1, tf.reduce_mean(real_loss)))\n",
    "    Weights.append(model.Weight.numpy()[0][0])\n",
    "    Biases.append(model.Bias.numpy())"
   ]
  },
  {
   "cell_type": "code",
   "execution_count": 14,
   "metadata": {},
   "outputs": [
    {
     "name": "stdout",
     "output_type": "stream",
     "text": [
      "TRUE_W:[2, -3.4], learned_W:[[ 1.9489479]\n",
      " [-3.2315762]];\n",
      "TRUE_b:4.2, learned_b:4.050210475921631\n"
     ]
    }
   ],
   "source": [
    "print('TRUE_W:{0}, learned_W:{1};\\nTRUE_b:{2}, learned_b:{3}'.format(TRUE_W, model.Weight.numpy(), TRUE_b, model.Bias.numpy()))"
   ]
  },
  {
   "cell_type": "code",
   "execution_count": 15,
   "metadata": {},
   "outputs": [
    {
     "data": {
      "image/png": "[encoded data removed]",
      "text/plain": [
       "<Figure size 432x288 with 1 Axes>"
      ]
     },
     "metadata": {
      "needs_background": "light"
     },
     "output_type": "display_data"
    }
   ],
   "source": [
    "# Let's plot it all\n",
    "plt.plot(range(num_epochs), Weights, 'r',\n",
    "         range(num_epochs), Biases, 'b')\n",
    "plt.plot([TRUE_W[0]] * num_epochs, 'r--',\n",
    "         [TRUE_b] * num_epochs, 'b--')\n",
    "plt.legend(['W', 'b', 'True W', 'True b'])\n",
    "plt.show()"
   ]
  }
 ],
 "metadata": {
  "kernelspec": {
   "display_name": "Python 3",
   "language": "python",
   "name": "python3"
  },
  "language_info": {
   "codemirror_mode": {
    "name": "ipython",
    "version": 3
   },
   "file_extension": ".py",
   "mimetype": "text/x-python",
   "name": "python",
   "nbconvert_exporter": "python",
   "pygments_lexer": "ipython3",
   "version": "3.7.4"
  }
 },
 "nbformat": 4,
 "nbformat_minor": 4
}
